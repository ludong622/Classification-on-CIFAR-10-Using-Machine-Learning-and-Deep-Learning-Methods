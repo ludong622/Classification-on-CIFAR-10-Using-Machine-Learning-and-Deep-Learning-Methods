{
 "cells": [
  {
   "cell_type": "code",
   "execution_count": 1,
   "metadata": {
    "colab": {
     "autoexec": {
      "startup": false,
      "wait_interval": 0
     },
     "base_uri": "https://localhost:8080/",
     "height": 34
    },
    "colab_type": "code",
    "executionInfo": {
     "elapsed": 7742,
     "status": "ok",
     "timestamp": 1528075016296,
     "user": {
      "displayName": "Kunze Wang",
      "photoUrl": "https://lh3.googleusercontent.com/a/default-user=s128",
      "userId": "111527304628398583588"
     },
     "user_tz": -600
    },
    "id": "ug_F8Uejh7eo",
    "outputId": "fffc5041-e3a1-424c-da8b-0310b024e9ac"
   },
   "outputs": [
    {
     "name": "stderr",
     "output_type": "stream",
     "text": [
      "Using TensorFlow backend.\n"
     ]
    }
   ],
   "source": [
    "#import data and calculate standard score\n",
    "import numpy as np\n",
    "from keras.datasets import cifar10\n",
    "(x_train, y_train), (x_test, y_test)=cifar10.load_data()\n",
    "features=np.concatenate((x_train,x_test),axis=0).reshape(60000,-1)\n",
    "labels=np.concatenate((y_train,y_test),axis=0).reshape(1,-1)[0].tolist()\n",
    "features=features.astype('float')\n",
    "features -= np.mean(features, axis=0)\n",
    "features /= np.std(features, axis=0)"
   ]
  },
  {
   "cell_type": "code",
   "execution_count": 2,
   "metadata": {
    "colab": {
     "autoexec": {
      "startup": false,
      "wait_interval": 0
     },
     "base_uri": "https://localhost:8080/",
     "height": 50
    },
    "colab_type": "code",
    "executionInfo": {
     "elapsed": 716,
     "status": "ok",
     "timestamp": 1528075017033,
     "user": {
      "displayName": "Kunze Wang",
      "photoUrl": "https://lh3.googleusercontent.com/a/default-user=s128",
      "userId": "111527304628398583588"
     },
     "user_tz": -600
    },
    "id": "k2U8CHP-34Is",
    "outputId": "45f87c67-4511-4ca7-f1e3-cb2f9ee80a60"
   },
   "outputs": [
    {
     "name": "stdout",
     "output_type": "stream",
     "text": [
      "(60000, 3072)\n",
      "60000\n"
     ]
    }
   ],
   "source": [
    "print(features.shape)\n",
    "print(len(labels))"
   ]
  },
  {
   "cell_type": "code",
   "execution_count": 0,
   "metadata": {
    "colab": {
     "autoexec": {
      "startup": false,
      "wait_interval": 0
     }
    },
    "colab_type": "code",
    "id": "BBGkLAJ9L9q6"
   },
   "outputs": [],
   "source": [
    "# try grayscale\n",
    "# aa=features.reshape(-1,3)\n",
    "# bb=np.apply_along_axis(lambda t:(0.299*t[0]+0.587*t[1]+0.114*t[2]),1,aa)\n",
    "# features=bb.reshape(60000,-1)"
   ]
  },
  {
   "cell_type": "code",
   "execution_count": 0,
   "metadata": {
    "colab": {
     "autoexec": {
      "startup": false,
      "wait_interval": 0
     }
    },
    "colab_type": "code",
    "id": "lgWenP-QaMDy"
   },
   "outputs": [],
   "source": [
    "#KNN model\n",
    "from sklearn.neighbors import KNeighborsClassifier\n",
    "def cal_accurancy(train_features,train_labels,test_features,test_labels):\n",
    "    clf=KNeighborsClassifier(n_neighbors=14).fit(train_features,train_labels)\n",
    "    result=clf.predict(test_features)\n",
    "    n=0\n",
    "    for i in range(6000):\n",
    "        confusion[result[i]][test_labels[i]]+=1\n",
    "        if(result[i]==test_labels[i]):\n",
    "            n=n+1\n",
    "\n",
    "    for i in range(10):\n",
    "        for j in range(6000):\n",
    "            if(result[j]==i and test_labels[j]==i):\n",
    "              TP[i]+=1\n",
    "            if(result[j]==i and test_labels[j]!=i):\n",
    "              FP[i]+=1\n",
    "            if(result[j]!=i and test_labels[j]==i):\n",
    "              FN[i]+=1\n",
    "            if(result[j]!=i and test_labels[j]!=i):\n",
    "              TN[i]+=1\n",
    "    return n/6000"
   ]
  },
  {
   "cell_type": "code",
   "execution_count": 0,
   "metadata": {
    "colab": {
     "autoexec": {
      "startup": false,
      "wait_interval": 0
     }
    },
    "colab_type": "code",
    "id": "LDH2CUvKbKoI"
   },
   "outputs": [],
   "source": [
    "#PCA\n",
    "from sklearn.decomposition import PCA\n",
    "pca = PCA(n_components=30).fit(features)\n",
    "features_PCA=pca.transform(features)"
   ]
  },
  {
   "cell_type": "code",
   "execution_count": 6,
   "metadata": {
    "colab": {
     "autoexec": {
      "startup": false,
      "wait_interval": 0
     },
     "base_uri": "https://localhost:8080/",
     "height": 34
    },
    "colab_type": "code",
    "executionInfo": {
     "elapsed": 118018,
     "status": "ok",
     "timestamp": 1528075159264,
     "user": {
      "displayName": "Kunze Wang",
      "photoUrl": "https://lh3.googleusercontent.com/a/default-user=s128",
      "userId": "111527304628398583588"
     },
     "user_tz": -600
    },
    "id": "AOu79gc75ZqP",
    "outputId": "c11a23cd-9cea-4d29-fd44-e938a83b9e85"
   },
   "outputs": [
    {
     "name": "stdout",
     "output_type": "stream",
     "text": [
      "0.421\n"
     ]
    }
   ],
   "source": [
    "#10-fold cross validation\n",
    "TP=np.zeros(10)\n",
    "FP=np.zeros(10)\n",
    "TN=np.zeros(10)\n",
    "FN=np.zeros(10)\n",
    "Accuracy=np.zeros(10)\n",
    "Precision=np.zeros(10)\n",
    "Recall=np.zeros(10)\n",
    "F1_Score=np.zeros(10)\n",
    "confusion=np.zeros((10,10))\n",
    "acc=[]\n",
    "for i in range(10):\n",
    "    train_features=np.concatenate((features_PCA[0:i*6000], features_PCA[(i+1)*6000:]), axis=0)    \n",
    "    train_labels=labels[0:i*6000]+labels[(i+1)*6000:]\n",
    "    test_features=features_PCA[i*6000:(i+1)*6000]\n",
    "    test_labels=labels[i*6000:(i+1)*6000]\n",
    "    acc.append(cal_accurancy(train_features,train_labels,test_features,test_labels))\n",
    "    \n",
    "print(sum(acc)/10)\n",
    "for i in range(10):\n",
    "    Accuracy[i]=(TP[i]+TN[i])/(TP[i]+TN[i]+FN[i]+FP[i])\n",
    "    Precision[i] = TP[i]/(TP[i]+FP[i])\n",
    "    Recall[i] = TP[i]/(TP[i]+FN[i])\n",
    "    F1_Score[i] = 2*(Recall[i] * Precision[i]) / (Recall[i] + Precision[i])"
   ]
  },
  {
   "cell_type": "code",
   "execution_count": 7,
   "metadata": {
    "colab": {
     "autoexec": {
      "startup": false,
      "wait_interval": 0
     },
     "base_uri": "https://localhost:8080/",
     "height": 151
    },
    "colab_type": "code",
    "executionInfo": {
     "elapsed": 1596,
     "status": "ok",
     "timestamp": 1528075161128,
     "user": {
      "displayName": "Kunze Wang",
      "photoUrl": "https://lh3.googleusercontent.com/a/default-user=s128",
      "userId": "111527304628398583588"
     },
     "user_tz": -600
    },
    "id": "JtcjV5tuF2AV",
    "outputId": "abddcb7e-0533-4b28-c2a3-ac1e4a04d302"
   },
   "outputs": [
    {
     "name": "stdout",
     "output_type": "stream",
     "text": [
      "[0.88883333 0.91498333 0.84093333 0.88185    0.84028333 0.89625\n",
      " 0.8534     0.91243333 0.8999     0.91313333]\n",
      "[0.45594424 0.61291133 0.28964862 0.35231896 0.29574735 0.46654773\n",
      " 0.35057717 0.6        0.49960866 0.61527209]\n",
      "[0.57783333 0.40666667 0.40666667 0.2165     0.43233333 0.2615\n",
      " 0.54666667 0.373      0.63833333 0.3505    ]\n",
      "[0.50970303 0.48892897 0.33832501 0.26819449 0.35122876 0.33514899\n",
      " 0.42719458 0.46002055 0.56051515 0.44659163]\n"
     ]
    }
   ],
   "source": [
    "print(Accuracy)\n",
    "print(Precision)\n",
    "print(Recall)\n",
    "print(F1_Score)\n"
   ]
  },
  {
   "cell_type": "code",
   "execution_count": 8,
   "metadata": {
    "colab": {
     "autoexec": {
      "startup": false,
      "wait_interval": 0
     },
     "base_uri": "https://localhost:8080/",
     "height": 353
    },
    "colab_type": "code",
    "executionInfo": {
     "elapsed": 2730,
     "status": "ok",
     "timestamp": 1528075164252,
     "user": {
      "displayName": "Kunze Wang",
      "photoUrl": "https://lh3.googleusercontent.com/a/default-user=s128",
      "userId": "111527304628398583588"
     },
     "user_tz": -600
    },
    "id": "dhY4HpnNFp6g",
    "outputId": "67e175c1-48d1-47fc-b975-3be045e6b0ac"
   },
   "outputs": [
    {
     "data": {
      "text/plain": [
       "array([[3467.,  496.,  660.,  357.,  401.,  270.,  131.,  383.,  861.,\n",
       "         578.],\n",
       "       [ 139., 2440.,   56.,  109.,   49.,   84.,   45.,   88.,  252.,\n",
       "         719.],\n",
       "       [ 461.,  248., 2440.,  914., 1333.,  968.,  911.,  676.,  207.,\n",
       "         266.],\n",
       "       [  75.,  171.,  262., 1299.,  178.,  807.,  264.,  294.,  159.,\n",
       "         178.],\n",
       "       [ 303.,  455., 1146.,  801., 2594.,  791., 1020., 1121.,  226.,\n",
       "         314.],\n",
       "       [  66.,   99.,  194.,  708.,  122., 1569.,  146.,  237.,  110.,\n",
       "         112.],\n",
       "       [ 238.,  650.,  806., 1250.,  815.,  999., 3280.,  602.,  148.,\n",
       "         568.],\n",
       "       [ 107.,  129.,  164.,  237.,  251.,  261.,   77., 2238.,   69.,\n",
       "         197.],\n",
       "       [1015.,  786.,  202.,  189.,  206.,  192.,   90.,  191., 3830.,\n",
       "         965.],\n",
       "       [ 129.,  526.,   70.,  136.,   51.,   59.,   36.,  170.,  138.,\n",
       "        2103.]])"
      ]
     },
     "execution_count": 8,
     "metadata": {
      "tags": []
     },
     "output_type": "execute_result"
    }
   ],
   "source": [
    "confusion"
   ]
  },
  {
   "cell_type": "code",
   "execution_count": 9,
   "metadata": {
    "colab": {
     "autoexec": {
      "startup": false,
      "wait_interval": 0
     },
     "base_uri": "https://localhost:8080/",
     "height": 364
    },
    "colab_type": "code",
    "executionInfo": {
     "elapsed": 2222,
     "status": "ok",
     "timestamp": 1528075166746,
     "user": {
      "displayName": "Kunze Wang",
      "photoUrl": "https://lh3.googleusercontent.com/a/default-user=s128",
      "userId": "111527304628398583588"
     },
     "user_tz": -600
    },
    "id": "nVaNzCYRKNRj",
    "outputId": "40e2d93a-b7c6-46fb-b735-40efaae83663"
   },
   "outputs": [
    {
     "data": {
      "text/plain": [
       "<matplotlib.axes._subplots.AxesSubplot at 0x7f69b407c6d8>"
      ]
     },
     "execution_count": 9,
     "metadata": {
      "tags": []
     },
     "output_type": "execute_result"
    },
    {
     "data": {
      "image/png": "[encoded data removed]",
      "text/plain": [
       "<matplotlib.figure.Figure at 0x7f69b73a2be0>"
      ]
     },
     "metadata": {
      "tags": []
     },
     "output_type": "display_data"
    }
   ],
   "source": [
    "import pandas as pd\n",
    "import seaborn as sn\n",
    "df_cm = pd.DataFrame(confusion, range(10),range(10))\n",
    "df_cm= df_cm.astype(int)\n",
    "sn.set(font_scale=1)#for label size\n",
    "sn.heatmap(df_cm, annot=True, fmt='d')# font size"
   ]
  },
  {
   "cell_type": "code",
   "execution_count": 0,
   "metadata": {
    "colab": {
     "autoexec": {
      "startup": false,
      "wait_interval": 0
     }
    },
    "colab_type": "code",
    "id": "MYCHikdCKOsY"
   },
   "outputs": [],
   "source": []
  }
 ],
 "metadata": {
  "accelerator": "GPU",
  "colab": {
   "default_view": {},
   "name": "PCA+KNN.ipynb",
   "provenance": [],
   "version": "0.3.2",
   "views": {}
  },
  "kernelspec": {
   "display_name": "Python 3",
   "language": "python",
   "name": "python3"
  },
  "language_info": {
   "codemirror_mode": {
    "name": "ipython",
    "version": 3
   },
   "file_extension": ".py",
   "mimetype": "text/x-python",
   "name": "python",
   "nbconvert_exporter": "python",
   "pygments_lexer": "ipython3",
   "version": "3.6.4"
  }
 },
 "nbformat": 4,
 "nbformat_minor": 1
}
