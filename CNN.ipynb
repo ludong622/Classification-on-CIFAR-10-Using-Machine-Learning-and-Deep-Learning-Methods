{
 "cells": [
  {
   "cell_type": "code",
   "execution_count": 0,
   "metadata": {
    "colab": {
     "autoexec": {
      "startup": false,
      "wait_interval": 0
     }
    },
    "colab_type": "code",
    "id": "z0lGvEvvYwbf"
   },
   "outputs": [],
   "source": [
    "#import libraries\n",
    "import time\n",
    "import matplotlib.pyplot as plt\n",
    "import numpy as np\n",
    "% matplotlib inline\n",
    "np.random.seed(2018) \n",
    "from keras.models import Sequential\n",
    "from keras.layers.convolutional import Convolution2D, MaxPooling2D\n",
    "from keras.layers import Activation, Flatten, Dense, Dropout\n",
    "from keras.layers.normalization import BatchNormalization\n",
    "from keras.utils import np_utils"
   ]
  },
  {
   "cell_type": "code",
   "execution_count": 0,
   "metadata": {
    "colab": {
     "autoexec": {
      "startup": false,
      "wait_interval": 0
     }
    },
    "colab_type": "code",
    "id": "NiZZAtHAbHNg"
   },
   "outputs": [],
   "source": [
    "#import data, calculate standard score\n",
    "from keras.datasets import cifar10\n",
    "(x_train, y_train), (x_test, y_test)=cifar10.load_data()\n",
    "features=np.concatenate((x_train,x_test),axis=0)\n",
    "labels=np_utils.to_categorical(np.concatenate((y_train,y_test),axis=0).reshape(1,-1)[0],10)\n",
    "features=features.astype('float')/255"
   ]
  },
  {
   "cell_type": "code",
   "execution_count": 0,
   "metadata": {
    "colab": {
     "autoexec": {
      "startup": false,
      "wait_interval": 0
     }
    },
    "colab_type": "code",
    "id": "kWZstfTfICB9"
   },
   "outputs": [],
   "source": [
    "#CNN model\n",
    "def cal_accurancy(train_features,train_labels,test_features,test_labels):\n",
    "    model = Sequential()\n",
    "\n",
    "    model.add(Convolution2D(48, (3, 3), padding='same', input_shape=(32, 32, 3)))\n",
    "    model.add(Activation('relu'))\n",
    "    model.add(Convolution2D(48, (3, 3)))\n",
    "    model.add(Activation('relu'))\n",
    "    model.add(MaxPooling2D(pool_size=(2, 2)))\n",
    "    model.add(Dropout(0.25))\n",
    "\n",
    "    model.add(Convolution2D(96, (3, 3)))\n",
    "    model.add(Activation('relu'))\n",
    "    model.add(Convolution2D(96, (3, 3)))\n",
    "    model.add(Activation('relu'))\n",
    "    model.add(MaxPooling2D(pool_size=(2, 2)))\n",
    "    model.add(Dropout(0.25))\n",
    "\n",
    "\n",
    "    model.add(Flatten())\n",
    "    model.add(Dense(512))\n",
    "    model.add(Activation('relu'))\n",
    "    model.add(Dropout(0.5))\n",
    "    model.add(Dense(10, activation='softmax'))\n",
    "\n",
    "    model.compile(optimizer='adam', loss='categorical_crossentropy', metrics=['accuracy'])\n",
    "    \n",
    "    start = time.time()\n",
    "    model_info = model.fit(train_features, train_labels, batch_size=128, epochs=20, validation_data = (test_features, test_labels), verbose=0)\n",
    "    end = time.time()\n",
    "\n",
    "    print(\"Model took %0.2f seconds to train\"%(end - start))\n",
    "    \n",
    "    result = model.predict(test_features)\n",
    "    predicted_class = np.argmax(result, axis=1)\n",
    "    true_class = np.argmax(test_labels, axis=1)\n",
    "\n",
    "    n=0\n",
    "    for i in range(6000):\n",
    "        confusion[predicted_class[i]][true_class[i]]+=1\n",
    "        if(predicted_class[i]==true_class[i]):\n",
    "            n=n+1\n",
    "\n",
    "    for i in range(10):\n",
    "        for j in range(6000):\n",
    "            if(predicted_class[j]==i and true_class[j]==i):\n",
    "              TP[i]+=1\n",
    "            if(predicted_class[j]==i and true_class[j]!=i):\n",
    "              FP[i]+=1\n",
    "            if(predicted_class[j]!=i and true_class[j]==i):\n",
    "              FN[i]+=1\n",
    "            if(predicted_class[j]!=i and true_class[j]!=i):\n",
    "              TN[i]+=1\n",
    "    return n/6000"
   ]
  },
  {
   "cell_type": "code",
   "execution_count": 12,
   "metadata": {
    "colab": {
     "autoexec": {
      "startup": false,
      "wait_interval": 0
     },
     "base_uri": "https://localhost:8080/",
     "height": 221
    },
    "colab_type": "code",
    "executionInfo": {
     "elapsed": 3346193,
     "status": "ok",
     "timestamp": 1528030033087,
     "user": {
      "displayName": "Dong Lu",
      "photoUrl": "https://lh3.googleusercontent.com/a/default-user=s128",
      "userId": "105685573324002169095"
     },
     "user_tz": -600
    },
    "id": "ow2hI6sUb2qb",
    "outputId": "7f9a7595-c1d1-43a5-8b38-2819a8bd7c76"
   },
   "outputs": [
    {
     "name": "stdout",
     "output_type": "stream",
     "text": [
      "Model took 330.36 seconds to train\n",
      "Model took 331.08 seconds to train\n",
      "Model took 331.90 seconds to train\n",
      "Model took 331.97 seconds to train\n",
      "Model took 332.25 seconds to train\n",
      "Model took 333.17 seconds to train\n",
      "Model took 333.49 seconds to train\n",
      "Model took 333.65 seconds to train\n",
      "Model took 334.22 seconds to train\n",
      "Model took 334.36 seconds to train\n",
      "0.8084166666666667\n"
     ]
    }
   ],
   "source": [
    "#10-fold cross validation\n",
    "TP=np.zeros(10)\n",
    "FP=np.zeros(10)\n",
    "TN=np.zeros(10)\n",
    "FN=np.zeros(10)\n",
    "Accuracy=np.zeros(10)\n",
    "Precision=np.zeros(10)\n",
    "Recall=np.zeros(10)\n",
    "F1_Score=np.zeros(10)\n",
    "confusion=np.zeros((10,10))\n",
    "acc=[]\n",
    "for i in range(10):\n",
    "    train_features=np.concatenate((features[0:i*6000], features[(i+1)*6000:]), axis=0)    \n",
    "    train_labels=np.concatenate((labels[0:i*6000], labels[(i+1)*6000:]), axis=0)   \n",
    "    test_features=features[i*6000:(i+1)*6000]\n",
    "    test_labels=labels[i*6000:(i+1)*6000]\n",
    "    acc.append(cal_accurancy(train_features,train_labels,test_features,test_labels))\n",
    "    \n",
    "print(sum(acc)/10)\n",
    "for i in range(10):\n",
    "    Accuracy[i]=(TP[i]+TN[i])/(TP[i]+TN[i]+FN[i]+FP[i])\n",
    "    Precision[i] = TP[i]/(TP[i]+FP[i])\n",
    "    Recall[i] = TP[i]/(TP[i]+FN[i])\n",
    "    F1_Score[i] = 2*(Recall[i] * Precision[i]) / (Recall[i] + Precision[i])"
   ]
  },
  {
   "cell_type": "code",
   "execution_count": 16,
   "metadata": {
    "colab": {
     "autoexec": {
      "startup": false,
      "wait_interval": 0
     },
     "base_uri": "https://localhost:8080/",
     "height": 374
    },
    "colab_type": "code",
    "executionInfo": {
     "elapsed": 517,
     "status": "ok",
     "timestamp": 1528030046845,
     "user": {
      "displayName": "Dong Lu",
      "photoUrl": "https://lh3.googleusercontent.com/a/default-user=s128",
      "userId": "105685573324002169095"
     },
     "user_tz": -600
    },
    "id": "ADVUGlkXrqAQ",
    "outputId": "6e84577a-48c0-4f6b-ca5c-9fac2ecba1ce"
   },
   "outputs": [
    {
     "data": {
      "text/plain": [
       "array([[4.989e+03, 7.200e+01, 2.900e+02, 7.700e+01, 9.700e+01, 2.800e+01,\n",
       "        2.900e+01, 4.900e+01, 2.280e+02, 1.240e+02],\n",
       "       [6.700e+01, 5.426e+03, 1.700e+01, 1.900e+01, 7.000e+00, 1.100e+01,\n",
       "        1.800e+01, 5.000e+00, 9.500e+01, 2.820e+02],\n",
       "       [2.310e+02, 2.700e+01, 4.385e+03, 3.280e+02, 2.960e+02, 2.500e+02,\n",
       "        1.940e+02, 1.710e+02, 6.400e+01, 2.900e+01],\n",
       "       [7.200e+01, 2.500e+01, 2.540e+02, 3.888e+03, 2.820e+02, 9.300e+02,\n",
       "        2.340e+02, 2.360e+02, 5.900e+01, 7.000e+01],\n",
       "       [7.300e+01, 1.300e+01, 3.630e+02, 3.020e+02, 4.781e+03, 2.210e+02,\n",
       "        1.410e+02, 3.070e+02, 2.000e+01, 2.100e+01],\n",
       "       [2.200e+01, 1.800e+01, 2.090e+02, 7.690e+02, 1.250e+02, 4.205e+03,\n",
       "        6.500e+01, 2.180e+02, 8.000e+00, 1.600e+01],\n",
       "       [3.600e+01, 3.200e+01, 3.000e+02, 3.600e+02, 1.890e+02, 1.230e+02,\n",
       "        5.264e+03, 3.100e+01, 3.200e+01, 2.500e+01],\n",
       "       [4.800e+01, 1.100e+01, 9.600e+01, 1.460e+02, 1.900e+02, 2.040e+02,\n",
       "        1.200e+01, 4.924e+03, 2.200e+01, 3.600e+01],\n",
       "       [3.210e+02, 1.040e+02, 5.700e+01, 7.000e+01, 1.700e+01, 1.500e+01,\n",
       "        2.700e+01, 1.800e+01, 5.366e+03, 1.200e+02],\n",
       "       [1.410e+02, 2.720e+02, 2.900e+01, 4.100e+01, 1.600e+01, 1.300e+01,\n",
       "        1.600e+01, 4.100e+01, 1.060e+02, 5.277e+03]])"
      ]
     },
     "execution_count": 16,
     "metadata": {
      "tags": []
     },
     "output_type": "execute_result"
    }
   ],
   "source": [
    "confusion"
   ]
  },
  {
   "cell_type": "code",
   "execution_count": 17,
   "metadata": {
    "colab": {
     "autoexec": {
      "startup": false,
      "wait_interval": 0
     },
     "base_uri": "https://localhost:8080/",
     "height": 381
    },
    "colab_type": "code",
    "executionInfo": {
     "elapsed": 1896,
     "status": "ok",
     "timestamp": 1528030060068,
     "user": {
      "displayName": "Dong Lu",
      "photoUrl": "https://lh3.googleusercontent.com/a/default-user=s128",
      "userId": "105685573324002169095"
     },
     "user_tz": -600
    },
    "id": "yOnkkGQwWYof",
    "outputId": "99bf19a0-f6e8-43ab-85f3-a39222f168e6"
   },
   "outputs": [
    {
     "data": {
      "text/plain": [
       "<matplotlib.axes._subplots.AxesSubplot at 0x7f3efad56748>"
      ]
     },
     "execution_count": 17,
     "metadata": {
      "tags": []
     },
     "output_type": "execute_result"
    },
    {
     "data": {
      "image/png": "[encoded data removed]",
      "text/plain": [
       "<matplotlib.figure.Figure at 0x7f3f58141358>"
      ]
     },
     "metadata": {
      "tags": []
     },
     "output_type": "display_data"
    }
   ],
   "source": [
    "import pandas as pd\n",
    "import seaborn as sn\n",
    "df_cm = pd.DataFrame(confusion, range(10),range(10))\n",
    "df_cm= df_cm.astype(int)\n",
    "sn.set(font_scale=1)#for label size\n",
    "sn.heatmap(df_cm, annot=True, fmt='d')# font size"
   ]
  },
  {
   "cell_type": "code",
   "execution_count": 18,
   "metadata": {
    "colab": {
     "autoexec": {
      "startup": false,
      "wait_interval": 0
     },
     "base_uri": "https://localhost:8080/",
     "height": 170
    },
    "colab_type": "code",
    "executionInfo": {
     "elapsed": 737,
     "status": "ok",
     "timestamp": 1528030116154,
     "user": {
      "displayName": "Dong Lu",
      "photoUrl": "https://lh3.googleusercontent.com/a/default-user=s128",
      "userId": "105685573324002169095"
     },
     "user_tz": -600
    },
    "id": "g9UFQlfUcFzr",
    "outputId": "226d013d-16e7-4d6b-c12a-c06e074d97f2"
   },
   "outputs": [
    {
     "name": "stdout",
     "output_type": "stream",
     "text": [
      "[0.96658333 0.98175    0.94658333 0.92876667 0.95533333 0.94591667\n",
      " 0.96893333 0.96931667 0.97695    0.9767    ]\n",
      "[0.83386261 0.9123928  0.73389121 0.64264463 0.7659404  0.74358974\n",
      " 0.82352941 0.86552997 0.87751431 0.88659274]\n",
      "[0.8315     0.90433333 0.73083333 0.648      0.79683333 0.70083333\n",
      " 0.87733333 0.82066667 0.89433333 0.8795    ]\n",
      "[0.83267963 0.90834519 0.73235908 0.6453112  0.78108152 0.72157872\n",
      " 0.84958037 0.8425015  0.885844   0.88303213]\n"
     ]
    }
   ],
   "source": [
    "print(Accuracy)\n",
    "print(Precision)\n",
    "print(Recall)\n",
    "print(F1_Score)"
   ]
  }
 ],
 "metadata": {
  "accelerator": "GPU",
  "colab": {
   "collapsed_sections": [],
   "default_view": {},
   "name": "CNN.ipynb",
   "provenance": [],
   "version": "0.3.2",
   "views": {}
  },
  "kernelspec": {
   "display_name": "Python 3",
   "language": "python",
   "name": "python3"
  },
  "language_info": {
   "codemirror_mode": {
    "name": "ipython",
    "version": 3
   },
   "file_extension": ".py",
   "mimetype": "text/x-python",
   "name": "python",
   "nbconvert_exporter": "python",
   "pygments_lexer": "ipython3",
   "version": "3.6.4"
  }
 },
 "nbformat": 4,
 "nbformat_minor": 1
}
